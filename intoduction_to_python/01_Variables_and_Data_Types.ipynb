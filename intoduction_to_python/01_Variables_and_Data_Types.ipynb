{
 "cells": [
  {
   "cell_type": "markdown",
   "metadata": {},
   "source": [
    "# mathematical operations &  comments"
   ]
  },
  {
   "cell_type": "code",
   "execution_count": null,
   "metadata": {},
   "outputs": [],
   "source": [
    "print(30 + 10+ 40)\n",
    "print(4)\n",
    "print(-3)"
   ]
  },
  {
   "cell_type": "code",
   "execution_count": null,
   "metadata": {},
   "outputs": [],
   "source": [
    "print(30 + 10+ 40) print(4) print(-3)"
   ]
  },
  {
   "cell_type": "code",
   "execution_count": null,
   "metadata": {},
   "outputs": [],
   "source": [
    "print( 8 - 7 ) # This is the line that outputs 1"
   ]
  },
  {
   "cell_type": "code",
   "execution_count": null,
   "metadata": {},
   "outputs": [],
   "source": [
    "print(16*10)\n",
    "print(48/5)\n",
    "print(5**3)"
   ]
  },
  {
   "cell_type": "code",
   "execution_count": null,
   "metadata": {},
   "outputs": [],
   "source": [
    "print(4 + 2 * 10)\n",
    "print((4 + 2) * 10)"
   ]
  },
  {
   "cell_type": "markdown",
   "metadata": {},
   "source": [
    "# Variables and Data Types"
   ]
  },
  {
   "cell_type": "code",
   "execution_count": null,
   "metadata": {},
   "outputs": [],
   "source": [
    "a_value = 15\n",
    "a_result = (25-7)*17\n",
    "print(a_value)\n",
    "print(a_result + 12)\n",
    "print(a_value + a_result)"
   ]
  },
  {
   "cell_type": "code",
   "execution_count": null,
   "metadata": {},
   "outputs": [],
   "source": [
    "# INITIAL CODE\n",
    "#old-income = 34000\n",
    "#new income = 40000"
   ]
  },
  {
   "cell_type": "code",
   "execution_count": null,
   "metadata": {},
   "outputs": [],
   "source": [
    "income = 34000\n",
    "income = income +6000\n",
    "print(income)"
   ]
  },
  {
   "cell_type": "code",
   "execution_count": null,
   "metadata": {},
   "outputs": [],
   "source": [
    "y += 10"
   ]
  },
  {
   "cell_type": "code",
   "execution_count": null,
   "metadata": {},
   "outputs": [],
   "source": [
    "variable_1 = 20\n",
    "variable_2 = 20\n",
    "variable_2 += 10\n",
    "variable_1 *= 4\n",
    "print(variable_1)\n",
    "print(variable_2)"
   ]
  },
  {
   "cell_type": "code",
   "execution_count": null,
   "metadata": {},
   "outputs": [],
   "source": [
    "variable_1 = 10\n",
    "variable_2 = 2.5\n",
    "\n",
    "type(variable_1)\n",
    "type(variable_2)\n",
    "\n",
    "variable_1 +=6.5\n",
    "variable_2 *= 2\n",
    "print(variable_1)\n",
    "print(variable_2)\n",
    "\n",
    "type(variable_1)\n",
    "type(variable_2)"
   ]
  },
  {
   "cell_type": "code",
   "execution_count": null,
   "metadata": {},
   "outputs": [],
   "source": [
    "print(float(10))\n",
    "print(str(15))\n",
    "print(int(4.3))\n",
    "print(int(4.99))\n",
    "print(round(4.99))\n",
    "print(round(4.5))"
   ]
  },
  {
   "cell_type": "code",
   "execution_count": null,
   "metadata": {},
   "outputs": [],
   "source": [
    "print(type('Facebook'))\n",
    "game = 'Clash of Clans'\n",
    "short_description = 'Clash of Clans is free and has an average rating of 4.5.'\n",
    "print(game)\n",
    "print(short_description)"
   ]
  },
  {
   "cell_type": "code",
   "execution_count": null,
   "metadata": {},
   "outputs": [],
   "source": [
    "print('a' + 'b')\n",
    "print('a' + ' ' + 'b')\n",
    "print('This' + 'is' + 'a' + 'sentence.')\n",
    "print('This' + ' ' + 'is' + ' ' + 'a' + ' ' + 'sentence.')\n",
    "print('This ' + 'is ' + 'a ' + 'sentence.')"
   ]
  },
  {
   "cell_type": "code",
   "execution_count": null,
   "metadata": {},
   "outputs": [],
   "source": [
    "print('a' * 2)\n",
    "print('a' * 5)\n",
    "print('a ' * 5)\n",
    "print('a' * 1)\n",
    "print('a' * 0)\n",
    "print('a' * -1)"
   ]
  },
  {
   "cell_type": "code",
   "execution_count": null,
   "metadata": {},
   "outputs": [],
   "source": [
    "print('a' + 1)\n",
    "print('a' - 1)"
   ]
  },
  {
   "cell_type": "code",
   "execution_count": null,
   "metadata": {},
   "outputs": [],
   "source": [
    "print(int('4') + 1)\n",
    "print(float('3.3') + 1)\n",
    "print(int('wrong format'))\n",
    "print(int('4.3'))"
   ]
  },
  {
   "cell_type": "code",
   "execution_count": null,
   "metadata": {},
   "outputs": [],
   "source": [
    "text_1 = '''This is a sentence.\n",
    "This is another sentence, on a different line.\n",
    "Yet another sentence.'''\n",
    "text_2 = \"\"\"-----------------------\n",
    "Line1.\n",
    "Line2.\n",
    "Line3.\"\"\"\n",
    "print(text_1)\n",
    "print(text_2)"
   ]
  }
 ],
 "metadata": {
  "kernelspec": {
   "display_name": "Python 3",
   "language": "python",
   "name": "python3"
  },
  "language_info": {
   "codemirror_mode": {
    "name": "ipython",
    "version": 3
   },
   "file_extension": ".py",
   "mimetype": "text/x-python",
   "name": "python",
   "nbconvert_exporter": "python",
   "pygments_lexer": "ipython3",
   "version": "3.7.6"
  }
 },
 "nbformat": 4,
 "nbformat_minor": 4
}
